{
 "cells": [
  {
   "cell_type": "markdown",
   "metadata": {},
   "source": [
    "### Всем привет! Спасибо что заглянули в этот ноутбук :)"
   ]
  },
  {
   "cell_type": "markdown",
   "metadata": {},
   "source": [
    "Для начала объясню структуру проекта.   \n",
    "* Файл **main**(мы сейчас в нем :blush:) используется для обработки результатов статистических выводов. \n",
    "* Файл **Streamlitapp** создает дашборд, используя(:heavy_exclamation_mark:) Streamlit.\n",
    "* Файл **cohort_Statistics** подсчитывает статистику для определенного предмета, года и класса.\n",
    "* Файл **DfServices** собрал в себя все тяжелые функции, использование которых в **cohort_statistics** уменьшало бы понятность кода :).\n",
    "Например, получает базы данных, приводит их к необходимому формату, получает когорты участников ВСОШ\n",
    "* В папке **Data** по каждому предмету и году лежат файлы:\n",
    "    * PDF и Excel - так предоставляли данные организаторы олимпиад\n",
    "    * Скрипты, для парсинга и форматирования этих данных\n",
    "    * Ну и собственно готовые данные в формате CSV"
   ]
  },
  {
   "cell_type": "markdown",
   "metadata": {},
   "source": [
    "#### Давайте же перейдем к обработке результата, полученного с помощью статистики :)"
   ]
  },
  {
   "cell_type": "markdown",
   "metadata": {},
   "source": [
    "Для начала **соберем датасет** с результатами статистики по всем предметам, годам и классам:"
   ]
  },
  {
   "cell_type": "code",
   "execution_count": 16,
   "metadata": {},
   "outputs": [],
   "source": [
    "%%capture\n",
    "from cohort_Statistics import cohort_Statistics\n",
    "\n",
    "data = {\n",
    "    'subjectName': [],\n",
    "    'year': [],\n",
    "    'grade': [],\n",
    "    'result': []\n",
    "}\n",
    "for subjectName in ['Math', 'Economics', 'Physics']:\n",
    "    for year in [23, 24]:\n",
    "        for grade in [10, 11]:\n",
    "            # Получим результат:\n",
    "            result = cohort_Statistics.cohort_Stat(grade, year, subjectName)[1] \n",
    "            #                   [1], т.к. cohort_Stat возвращает кортеж, где 2й элемент это результат\n",
    "            # И добавим результат в data.\n",
    "            data['subjectName'].append(subjectName)\n",
    "            data['year'].append(year)\n",
    "            data['grade'].append(grade)\n",
    "            data['result'].append(result)"
   ]
  },
  {
   "cell_type": "markdown",
   "metadata": {},
   "source": [
    "И переведем **Dict** в удобный формат - **pd.DataFrame**"
   ]
  },
  {
   "cell_type": "code",
   "execution_count": 20,
   "metadata": {},
   "outputs": [
    {
     "name": "stdout",
     "output_type": "stream",
     "text": [
      "  subjectName  year  grade result\n",
      "0        Math    23     10   True\n",
      "1        Math    23     11   True\n",
      "2        Math    24     10   True\n",
      "3        Math    24     11   True\n",
      "4   Economics    23     10   True\n"
     ]
    }
   ],
   "source": [
    "import pandas as pd\n",
    "dFrame = pd.DataFrame(data)\n",
    "print(dFrame.head())"
   ]
  },
  {
   "cell_type": "markdown",
   "metadata": {},
   "source": [
    "Первым делом, хотелось бы проверить, в каких случаях увеличение среднего значения у призеров оказалось недостоверным."
   ]
  },
  {
   "cell_type": "code",
   "execution_count": 21,
   "metadata": {},
   "outputs": [
    {
     "name": "stdout",
     "output_type": "stream",
     "text": [
      "   subjectName  year  grade       result\n",
      "5    Economics    23     11  Not defined\n",
      "8      Physics    23     10  Not defined\n",
      "9      Physics    23     11  Not defined\n",
      "11     Physics    24     11  Not defined\n"
     ]
    }
   ],
   "source": [
    "print(dFrame[dFrame['result'] == 'Not defined'])"
   ]
  },
  {
   "cell_type": "markdown",
   "metadata": {},
   "source": [
    "Всего выборок: $2(года) * 2(класса) * 3(предмета) = 12 (выборок)$   \n",
    "Получается, наша гипотеза верна для $66\\%$ выборок.   \n",
    "* У **математиков** все 4 выборки показали статистически значимый результат.    \n",
    "* У **экономистов** 3 из 4х выборок показали статистически значимый результат\n",
    "* В то же время у **физиков** лишь 1 из 4х выборок показала статистически значимый результат."
   ]
  },
  {
   "cell_type": "markdown",
   "metadata": {},
   "source": [
    "По экономике у меня есть интересная информация:\n",
    "* Во ВСОШ 22-23 года в заданиях 11 класса было аж **4 качественных задачи** ([Задания 1, 3](https://всош.цпм.рф/upload/files/Arhive_tasks/2022-23/final/econ/sol-econ-11-tur1-final-22-23.pdf), [5, 6](https://всош.цпм.рф/upload/files/Arhive_tasks/2022-23/final/econ/sol-econ-11-tur2-final-22-23.pdf)) **против двух**, как во ВСОШах по каждому классу в 20-21, 21-22, 22-23, 23-24 годах.\n",
    "* В количественных же заданиях были достаточно простые темы:\n",
    "    * Спрос и предложение, максимизация прибыли для одной фирмы [Задание 2](https://всош.цпм.рф/upload/files/Arhive_tasks/2022-23/final/econ/sol-econ-11-tur1-final-22-23.pdf)\n",
    "    * Модель штакельберга (олигополия двух фирм) [Задание 4](https://всош.цпм.рф/upload/files/Arhive_tasks/2022-23/final/econ/sol-econ-11-tur1-final-22-23.pdf)\n",
    "    * Математическое ожидание [Задание 7](https://всош.цпм.рф/upload/files/Arhive_tasks/2022-23/final/econ/sol-econ-11-tur2-final-22-23.pdff)\n",
    "    * Монополия и трансферы государства [Задание 8](https://всош.цпм.рф/upload/files/Arhive_tasks/2022-23/final/econ/sol-econ-11-tur2-final-22-23.pdf)\n",
    "\n",
    "Что привело к появлению соревнования больше по описанию эссе и пониманию экономики, нежели к решению на нее каких то сложных математических задач.   \n",
    "   \n",
    "_По инсайтам, которые у меня есть, изменения были введены командой составителей для того, чтобы победить засилие олимпиадных математиков на ВСОШ по экономике. Задания 11 класса стали некоторым экспериментом._   \n",
    "   \n",
    "Это изменение могло повлиять на нашу статистику. \n",
    "   \n",
    "   **Замечу, что мы не можем делать какие либо выводы по имеющимся у нас данным.**    \n",
    "На результаты в разных годах и предметах также могли повлиять следующие факторы:\n",
    "* Маленький размер выборок(В районе 250 участников ВСОШ по каждому предмету в год и только 40 призеров)\n",
    "* Задания регионального этапа, которые влияют на уровень людей, проходящих на заключительный этап\n",
    "* Олимпиадные школы по подготовке к олимпиадам могли готовить людей в разные года с разной эффективностью\n",
    "* И великое множество других"
   ]
  },
  {
   "cell_type": "markdown",
   "metadata": {},
   "source": [
    "Также кажется странным, что из четырех выборок по физике только одна показала статистически значимый результат.      \n",
    "Требуется дополнительное исследование, выявляющее, действительно ли в физике все совсем по другому и, если так, то почему?\n"
   ]
  },
  {
   "cell_type": "markdown",
   "metadata": {},
   "source": [
    "И, конечно, подготовим выводы для нашего исследования:"
   ]
  },
  {
   "cell_type": "code",
   "execution_count": 42,
   "metadata": {},
   "outputs": [
    {
     "name": "stdout",
     "output_type": "stream",
     "text": [
      "grade  result     \n",
      "10     True           5\n",
      "       Not defined    1\n",
      "11     True           3\n",
      "       Not defined    3\n",
      "Name: subjectName, dtype: int64\n",
      "year  result     \n",
      "23    True           3\n",
      "      Not defined    3\n",
      "24    True           5\n",
      "      Not defined    1\n",
      "Name: subjectName, dtype: int64\n"
     ]
    }
   ],
   "source": [
    "def check(dFrame, column):\n",
    "    tableRes = dFrame.groupby([column, 'result']).subjectName.count()\n",
    "    print(tableRes)\n",
    "    \n",
    "check(dFrame, 'grade')\n",
    "check(dFrame, 'year')"
   ]
  },
  {
   "cell_type": "markdown",
   "metadata": {},
   "source": [
    "#### И, конечно, выведем результаты нашего исследования в CSV табличку"
   ]
  },
  {
   "cell_type": "code",
   "execution_count": 24,
   "metadata": {},
   "outputs": [],
   "source": [
    "dFrame.to_csv('resultsTable.csv', sep = ' ')"
   ]
  }
 ],
 "metadata": {
  "kernelspec": {
   "display_name": "Python 3",
   "language": "python",
   "name": "python3"
  },
  "language_info": {
   "codemirror_mode": {
    "name": "ipython",
    "version": 3
   },
   "file_extension": ".py",
   "mimetype": "text/x-python",
   "name": "python",
   "nbconvert_exporter": "python",
   "pygments_lexer": "ipython3",
   "version": "3.10.7"
  }
 },
 "nbformat": 4,
 "nbformat_minor": 2
}
