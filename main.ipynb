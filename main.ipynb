{
 "cells": [
  {
   "cell_type": "markdown",
   "metadata": {},
   "source": [
    "# Всем привет!"
   ]
  },
  {
   "cell_type": "markdown",
   "metadata": {},
   "source": [
    "## Спасибо что заглянули в этот ноутбук :)"
   ]
  },
  {
   "cell_type": "markdown",
   "metadata": {},
   "source": [
    "## Оглавление\n",
    "* [Структура проекта](#структура-проекта)\n",
    "* [Первая гипотеза](#первая-гипотеза)\n",
    "\t* [Статистика](#статистика)\n",
    "\t* [Интерпретация результата](#интерпретируем-результат)\n",
    "\t* [Вывод в CSV](#выведем-результаты-нашего-исследования-в-csv-табличку)\n",
    "* [Структура проекта](#вторая-гипотеза)\n",
    "\t* [Статистика](#статистика)\n",
    "\t* [Результат](#результат)\n"
   ]
  },
  {
   "cell_type": "markdown",
   "metadata": {},
   "source": [
    "### Структура проекта\n",
    "* Файл **main** используется для интерпретации статистики. \n",
    "* Файл **Streamlitapp** создает дашборд, используя Streamlit.\n",
    "* Файл **cohort_Statistics** подсчитывает статистику по когортам.\n",
    "* Файл **DfServices** собрал в себя все тяжелые функции, использование которых в **cohort_statistics** уменьшало бы понятность кода :). \n",
    "Включает в себя модули:\n",
    "    * **DFServicesModule**: Получение данных и форматирование\n",
    "    * **Visuals**: Графики\n",
    "    * **Percentiles**: Форматирование в перцентили\n",
    "* В папке **Data** по каждому предмету и году лежат файлы:\n",
    "    * PDF и Excel - так предоставляли данные организаторы олимпиад\n",
    "    * Скрипты, для парсинга и форматирования этих данных\n",
    "    * Ну и собственно готовые данные в формате CSV"
   ]
  },
  {
   "cell_type": "markdown",
   "metadata": {},
   "source": [
    "### Первая гипотеза"
   ]
  },
  {
   "cell_type": "markdown",
   "metadata": {},
   "source": [
    "Напомню:   \n",
    "$H_1$: **Средний балл призеров прошлого года будет выше**   \n"
   ]
  },
  {
   "cell_type": "markdown",
   "metadata": {},
   "source": [
    "#### Статистика"
   ]
  },
  {
   "cell_type": "markdown",
   "metadata": {},
   "source": [
    "Для начала **соберем датасет** с результатами статистики по всем предметам, годам и классам:"
   ]
  },
  {
   "cell_type": "code",
   "execution_count": 1,
   "metadata": {},
   "outputs": [],
   "source": [
    "%%capture\n",
    "import Cohort_Statistics\n",
    "from DfServices import DfServicesModule\n",
    "\n",
    "data = {\n",
    "    'subjectName': [],\n",
    "    'year': [],\n",
    "    'grade': [],\n",
    "    'result': []\n",
    "}\n",
    "for subjectName in ['Math', 'Economics', 'Physics']:\n",
    "    for year in [23, 24]:\n",
    "        for grade in [10, 11]:\n",
    "            # Получим результат:\n",
    "            result = Cohort_Statistics.cohortStat(\n",
    "                DfServicesModule.getMeanData(\n",
    "                    grade, year, subjectName)).boolResult\n",
    "\n",
    "            data['subjectName'].append(subjectName)\n",
    "            data['year'].append(year)\n",
    "            data['grade'].append(grade)\n",
    "            data['result'].append(result)"
   ]
  },
  {
   "cell_type": "markdown",
   "metadata": {},
   "source": [
    "Переведем **Dict** в удобный формат - **pd.DataFrame**"
   ]
  },
  {
   "cell_type": "code",
   "execution_count": 7,
   "metadata": {},
   "outputs": [],
   "source": [
    "%%capture\n",
    "import pandas as pd\n",
    "dFrame = pd.DataFrame(data)\n",
    "print(dFrame.head())"
   ]
  },
  {
   "cell_type": "markdown",
   "metadata": {},
   "source": [
    "Первым делом, хотелось бы проверить, в каких случаях увеличение среднего значения у призеров оказалось недостоверным."
   ]
  },
  {
   "cell_type": "code",
   "execution_count": 3,
   "metadata": {},
   "outputs": [
    {
     "name": "stdout",
     "output_type": "stream",
     "text": [
      "   subjectName  year  grade       result\n",
      "5    Economics    23     11  Not defined\n",
      "8      Physics    23     10  Not defined\n",
      "9      Physics    23     11  Not defined\n",
      "11     Physics    24     11  Not defined\n"
     ]
    }
   ],
   "source": [
    "print(dFrame[dFrame['result'] == 'Not defined'])"
   ]
  },
  {
   "cell_type": "markdown",
   "metadata": {},
   "source": [
    "#### Интерпретируем результат:\n",
    "\n",
    "* У **математиков** все 4 выборки показали статистически значимый результат.    \n",
    "* У **экономистов** 3 из 4х выборок показали статистически значимый результат\n",
    "* В то же время у **физиков** лишь 1 из 4х выборок показала статистически значимый результат."
   ]
  },
  {
   "cell_type": "markdown",
   "metadata": {},
   "source": [
    "##### По экономике у меня есть интересная информация: \n",
    "* Во ВСОШ 22-23 года в заданиях 11 класса было аж **4 качественные задачи** ([Задания 1, 3](https://всош.цпм.рф/upload/files/Arhive_tasks/2022-23/final/econ/sol-econ-11-tur1-final-22-23.pdf), [5, 6](https://всош.цпм.рф/upload/files/Arhive_tasks/2022-23/final/econ/sol-econ-11-tur2-final-22-23.pdf)) **против двух**, как во ВСОШах по каждому классу в 20-21, 21-22, 22-23, 23-24 годах.\n",
    "* В количественных же заданиях были достаточно простые темы:\n",
    "    * Спрос и предложение, максимизация прибыли для одной фирмы [Задание 2](https://всош.цпм.рф/upload/files/Arhive_tasks/2022-23/final/econ/sol-econ-11-tur1-final-22-23.pdf)\n",
    "    * Модель штакельберга (олигополия двух фирм) [Задание 4](https://всош.цпм.рф/upload/files/Arhive_tasks/2022-23/final/econ/sol-econ-11-tur1-final-22-23.pdf)\n",
    "    * Математическое ожидание [Задание 7](https://всош.цпм.рф/upload/files/Arhive_tasks/2022-23/final/econ/sol-econ-11-tur2-final-22-23.pdff)\n",
    "    * Монополия и трансферы государства [Задание 8](https://всош.цпм.рф/upload/files/Arhive_tasks/2022-23/final/econ/sol-econ-11-tur2-final-22-23.pdf)\n",
    "\n",
    "Что привело к появлению соревнования больше по описанию эссе и пониманию экономики, нежели к решению на нее каких то сложных математических задач.   \n",
    "   \n",
    "_По инсайтам, которые у меня есть, изменения были введены командой составителей для того, чтобы победить засилие олимпиадных математиков на ВСОШ по экономике. Задания 11 класса стали экспериментом._   \n",
    "   \n",
    "Это изменение могло повлиять на нашу статистику. </details>\n",
    "Поэтому не будем учитывать в исследовании выборку по экономике 22-23 года 11 класса\n",
    "   \n",
    "   **Замечу, что мы не можем делать какие либо выводы по имеющимся у нас данным.**    \n",
    "На результаты в разных годах и предметах также могли повлиять следующие факторы:\n",
    "* Маленький размер выборок(В районе 250 участников ВСОШ по каждому предмету в год и только 40 призеров)\n",
    "* Задания регионального этапа, которые влияют на уровень людей, проходящих на заключительный этап\n",
    "* Олимпиадные школы по подготовке к олимпиадам могли готовить людей в разные года с разной эффективностью\n",
    "* И великое множество других"
   ]
  },
  {
   "cell_type": "markdown",
   "metadata": {},
   "source": [
    "Также кажется странным, что из четырех выборок по физике только одна показала статистически значимый результат.      \n",
    "Требуется дополнительное исследование, выявляющее, действительно ли в физике все совсем по другому и, если так, то почему?\n"
   ]
  },
  {
   "cell_type": "markdown",
   "metadata": {},
   "source": [
    "И, конечно, подготовим выводы для нашего исследования:"
   ]
  },
  {
   "cell_type": "code",
   "execution_count": 4,
   "metadata": {},
   "outputs": [
    {
     "name": "stdout",
     "output_type": "stream",
     "text": [
      "grade  result     \n",
      "10     True           5\n",
      "       Not defined    1\n",
      "11     True           3\n",
      "       Not defined    3\n",
      "Name: subjectName, dtype: int64\n",
      "year  result     \n",
      "23    True           3\n",
      "      Not defined    3\n",
      "24    True           5\n",
      "      Not defined    1\n",
      "Name: subjectName, dtype: int64\n"
     ]
    }
   ],
   "source": [
    "def check(dFrame, column):\n",
    "    tableRes = dFrame.groupby([column, 'result']).subjectName.count()\n",
    "    print(tableRes)\n",
    "    \n",
    "check(dFrame, 'grade')\n",
    "check(dFrame, 'year')"
   ]
  },
  {
   "cell_type": "markdown",
   "metadata": {},
   "source": [
    "#### Выведем результаты нашего исследования в CSV табличку"
   ]
  },
  {
   "cell_type": "code",
   "execution_count": 5,
   "metadata": {},
   "outputs": [],
   "source": [
    "dFrame.to_csv('resultsTable.csv', sep = ' ')"
   ]
  },
  {
   "cell_type": "markdown",
   "metadata": {},
   "source": [
    "### Вторая гипотеза"
   ]
  },
  {
   "cell_type": "markdown",
   "metadata": {},
   "source": [
    "Напомню:  \n",
    "$H_1$: Призеры прошлого года в среднем занимают более высокие места"
   ]
  },
  {
   "cell_type": "markdown",
   "metadata": {},
   "source": [
    "#### Статистика"
   ]
  },
  {
   "cell_type": "code",
   "execution_count": 10,
   "metadata": {},
   "outputs": [],
   "source": [
    "%%capture\n",
    "from Cohort_Statistics import Cohort_Statistics\n",
    "\n",
    "stat = Cohort_Statistics.cohortStat(DfServicesModule.getPercentileData())"
   ]
  },
  {
   "cell_type": "markdown",
   "metadata": {},
   "source": [
    "#### Результат:"
   ]
  },
  {
   "cell_type": "code",
   "execution_count": 11,
   "metadata": {},
   "outputs": [
    {
     "name": "stdout",
     "output_type": "stream",
     "text": [
      "Mean of last year prizes' scores is 0.5625\n",
      "Mean others' scores is 0.4769\n",
      "    H_0: Actually MeanP == MeanO\n",
      "    H_1: Not equal\n",
      " \n",
      "Check criteria for a T-Test:\n",
      "     | Shapiro-Wilk for norm. failed: One of the distributions is not normal\n",
      "     Failed | Levene | Shapiro-Wilk \n",
      " \n",
      "Performing a KS-Test:\n",
      "    p_value is 0.00000 \n",
      "H_0 is false -> H_1 is ACCEPTED\n",
      " \n"
     ]
    }
   ],
   "source": [
    "for line in stat.logs:\n",
    "\tprint(line)"
   ]
  },
  {
   "cell_type": "markdown",
   "metadata": {},
   "source": [
    "Из чего делаем закономерные выводы и заносим их в README.py"
   ]
  }
 ],
 "metadata": {
  "kernelspec": {
   "display_name": "Python 3",
   "language": "python",
   "name": "python3"
  },
  "language_info": {
   "codemirror_mode": {
    "name": "ipython",
    "version": 3
   },
   "file_extension": ".py",
   "mimetype": "text/x-python",
   "name": "python",
   "nbconvert_exporter": "python",
   "pygments_lexer": "ipython3",
   "version": "3.12.3"
  }
 },
 "nbformat": 4,
 "nbformat_minor": 2
}
