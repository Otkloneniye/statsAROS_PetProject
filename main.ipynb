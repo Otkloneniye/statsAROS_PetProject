{
 "cells": [
  {
   "cell_type": "markdown",
   "metadata": {},
   "source": [
    "# Всем привет!"
   ]
  },
  {
   "cell_type": "markdown",
   "metadata": {},
   "source": [
    "## Спасибо что заглянули в этот ноутбук :)"
   ]
  },
  {
   "cell_type": "markdown",
   "metadata": {},
   "source": [
    "## Оглавление\n",
    "* [Структура проекта](#структура-проекта)\n",
    "* [Первая гипотеза](#первая-гипотеза)\n",
    "\t* [Статистика](#статистика)\n",
    "\t* [Интерпретация результата](#интерпретируем-результат)\n",
    "\t* [Вывод в CSV](#выведем-результаты-нашего-исследования-в-csv-табличку)\n",
    "* [Структура проекта](#вторая-гипотеза)\n",
    "\t* [Статистика](#статистика)\n",
    "\t* [Результат](#результат)\n"
   ]
  },
  {
   "cell_type": "markdown",
   "metadata": {},
   "source": [
    "### Структура проекта\n",
    "* Файл **main** используется для интерпретации статистики. \n",
    "* Файл **Streamlitapp** создает дашборд, используя Streamlit.\n",
    "* Модуль **Modules/CohortStatistics** подсчитывает статистику по когортам.\n",
    "* Модуль **Modules/StatServices** собрал в себя все тяжелые функции, использование которых в **CohortStatistics** уменьшало бы понятность кода :).\n",
    "Включает в себя классы:\n",
    "    * **DFServices**: Получение данных и форматирование\n",
    "    * **Visuals**: Графики\n",
    "    * **Percentiles**: Форматирование в перцентили\n",
    "* В папке **Data** по каждому предмету и году лежат файлы:\n",
    "    * PDF и Excel - так предоставляли данные организаторы олимпиад\n",
    "    * Скрипты, для парсинга и форматирования этих данных\n",
    "    * Ну и собственно готовые данные в формате CSV"
   ]
  },
  {
   "cell_type": "markdown",
   "metadata": {},
   "source": [
    "![dependenciesDiagram.png](<Modules/dependenciesDiagram.png>)"
   ]
  },
  {
   "cell_type": "markdown",
   "metadata": {},
   "source": [
    "### Первая гипотеза"
   ]
  },
  {
   "cell_type": "markdown",
   "metadata": {},
   "source": [
    "Напомню:   \n",
    "$H_1$: **Средний балл призеров+победителей прошлого года будет выше**   \n"
   ]
  },
  {
   "cell_type": "markdown",
   "metadata": {},
   "source": [
    "#### Статистика"
   ]
  },
  {
   "cell_type": "markdown",
   "metadata": {},
   "source": [
    "Для начала **соберем датасет** с результатами статистики по всем предметам, годам и классам:"
   ]
  },
  {
   "cell_type": "code",
   "execution_count": 1,
   "metadata": {},
   "outputs": [],
   "source": [
    "%%capture\n",
    "import sys\n",
    "sys.path.append(\"./Modules\")\n",
    "import CohortStatistics\n",
    "from StatServices import DfServices\n",
    "\n",
    "data = {\n",
    "    'subjectName': [],\n",
    "    'year': [],\n",
    "    'grade': [],\n",
    "    'result': []\n",
    "}\n",
    "for subjectName in ['Math', 'Economics', 'Physics']:\n",
    "    for year in [23, 24]:\n",
    "        for grade in [10, 11]:\n",
    "            # Получим результат:\n",
    "            result = CohortStatistics.cohortStat(\n",
    "                DfServices.getMeanData(\n",
    "                    grade, year, subjectName)).boolResult\n",
    "\n",
    "            data['subjectName'].append(subjectName)\n",
    "            data['year'].append(year)\n",
    "            data['grade'].append(grade)\n",
    "            data['result'].append(result)"
   ]
  },
  {
   "cell_type": "markdown",
   "metadata": {},
   "source": [
    "Переведем **Dict** в удобный формат - **pd.DataFrame**"
   ]
  },
  {
   "cell_type": "code",
   "execution_count": 2,
   "metadata": {},
   "outputs": [],
   "source": [
    "%%capture\n",
    "import pandas as pd\n",
    "dFrame = pd.DataFrame(data)"
   ]
  },
  {
   "cell_type": "markdown",
   "metadata": {},
   "source": [
    "Первым делом, хотелось бы проверить, в каких случаях увеличение среднего значения у призеров оказалось недостоверным."
   ]
  },
  {
   "cell_type": "code",
   "execution_count": 3,
   "metadata": {},
   "outputs": [
    {
     "data": {
      "text/html": [
       "<div>\n",
       "<style scoped>\n",
       "    .dataframe tbody tr th:only-of-type {\n",
       "        vertical-align: middle;\n",
       "    }\n",
       "\n",
       "    .dataframe tbody tr th {\n",
       "        vertical-align: top;\n",
       "    }\n",
       "\n",
       "    .dataframe thead th {\n",
       "        text-align: right;\n",
       "    }\n",
       "</style>\n",
       "<table border=\"1\" class=\"dataframe\">\n",
       "  <thead>\n",
       "    <tr style=\"text-align: right;\">\n",
       "      <th></th>\n",
       "      <th>subjectName</th>\n",
       "      <th>year</th>\n",
       "      <th>grade</th>\n",
       "      <th>result</th>\n",
       "    </tr>\n",
       "  </thead>\n",
       "  <tbody>\n",
       "    <tr>\n",
       "      <th>5</th>\n",
       "      <td>Economics</td>\n",
       "      <td>23</td>\n",
       "      <td>11</td>\n",
       "      <td>Not defined</td>\n",
       "    </tr>\n",
       "    <tr>\n",
       "      <th>8</th>\n",
       "      <td>Physics</td>\n",
       "      <td>23</td>\n",
       "      <td>10</td>\n",
       "      <td>Not defined</td>\n",
       "    </tr>\n",
       "  </tbody>\n",
       "</table>\n",
       "</div>"
      ],
      "text/plain": [
       "  subjectName  year  grade       result\n",
       "5   Economics    23     11  Not defined\n",
       "8     Physics    23     10  Not defined"
      ]
     },
     "execution_count": 3,
     "metadata": {},
     "output_type": "execute_result"
    }
   ],
   "source": [
    "dFrame[dFrame['result'] == 'Not defined']"
   ]
  },
  {
   "cell_type": "markdown",
   "metadata": {},
   "source": [
    "#### Интерпретируем результат:\n",
    "\n",
    "* У **математиков** все 4 выборки показали статистически значимый результат.    \n",
    "* У **экономистов** 3 из 4х выборок показали статистически значимый результат\n",
    "* У **физиков**  3 из 4х выборок показали статистически значимый результат."
   ]
  },
  {
   "cell_type": "markdown",
   "metadata": {},
   "source": [
    "##### По экономике у меня есть интересная информация: \n",
    "* Во ВСОШ 22-23 года в заданиях 11 класса было аж **4 качественные задачи** ([Задания 1, 3](https://всош.цпм.рф/upload/files/Arhive_tasks/2022-23/final/econ/sol-econ-11-tur1-final-22-23.pdf), [5, 6](https://всош.цпм.рф/upload/files/Arhive_tasks/2022-23/final/econ/sol-econ-11-tur2-final-22-23.pdf)) **против двух**, как во ВСОШах по каждому классу в 20-21, 21-22, 22-23, 23-24 годах.\n",
    "* В количественных же заданиях были достаточно простые темы:\n",
    "    * Спрос и предложение, максимизация прибыли для одной фирмы [Задание 2](https://всош.цпм.рф/upload/files/Arhive_tasks/2022-23/final/econ/sol-econ-11-tur1-final-22-23.pdf)\n",
    "    * Модель штакельберга (олигополия двух фирм) [Задание 4](https://всош.цпм.рф/upload/files/Arhive_tasks/2022-23/final/econ/sol-econ-11-tur1-final-22-23.pdf)\n",
    "    * Математическое ожидание [Задание 7](https://всош.цпм.рф/upload/files/Arhive_tasks/2022-23/final/econ/sol-econ-11-tur2-final-22-23.pdff)\n",
    "    * Монополия и трансферы государства [Задание 8](https://всош.цпм.рф/upload/files/Arhive_tasks/2022-23/final/econ/sol-econ-11-tur2-final-22-23.pdf)\n",
    "\n",
    "Что привело к появлению соревнования больше по описанию эссе и пониманию экономики, нежели к решению на нее каких то сложных математических задач.   \n",
    "   \n",
    "_По инсайтам, которые у меня есть, изменения были введены командой составителей для того, чтобы победить засилие олимпиадных математиков на ВСОШ по экономике. Задания 11 класса стали экспериментом._   \n",
    "   \n",
    "Это изменение могло повлиять на нашу статистику. </details>\n",
    "Поэтому не будем учитывать в исследовании выборку по экономике 22-23 года 11 класса\n",
    "   \n",
    "   **Замечу, что мы не можем делать какие либо выводы по имеющимся у нас данным.**    \n",
    "На результаты в разных годах и предметах также могли повлиять следующие факторы:\n",
    "* Маленький размер выборок(В районе 250 участников ВСОШ по каждому предмету в год и только 120 призеров, а ведь еще бралась когорта - не все призеры участвовали в ВСОШ в следующем году)\n",
    "* Задания регионального этапа, которые влияют на уровень людей, проходящих на заключительный этап\n",
    "* Олимпиадные школы по подготовке к олимпиадам могли готовить людей в разные года с разной эффективностью\n",
    "* И великое множество других"
   ]
  },
  {
   "cell_type": "markdown",
   "metadata": {},
   "source": [
    "Также кажется странным, одна выборка показала статистически незначимый результат.      \n",
    "Требуется дополнительное исследование, выявляющее, что произошло в ВСОШ 2022-2023 по физике в 10м классе\n"
   ]
  },
  {
   "cell_type": "markdown",
   "metadata": {},
   "source": [
    "##### И, конечно, подготовим выводы для нашего исследования:"
   ]
  },
  {
   "cell_type": "code",
   "execution_count": 4,
   "metadata": {},
   "outputs": [
    {
     "name": "stdout",
     "output_type": "stream",
     "text": [
      "grade  result     \n",
      "10     True           5\n",
      "       Not defined    1\n",
      "11     True           5\n",
      "       Not defined    1\n",
      "Name: subjectName, dtype: int64\n",
      "year  result     \n",
      "23    True           4\n",
      "      Not defined    2\n",
      "24    True           6\n",
      "Name: subjectName, dtype: int64\n"
     ]
    }
   ],
   "source": [
    "def check(dFrame, column):\n",
    "    tableRes = dFrame.groupby([column, 'result']).subjectName.count()\n",
    "    print(tableRes)\n",
    "    \n",
    "check(dFrame, 'grade')\n",
    "check(dFrame, 'year')"
   ]
  },
  {
   "cell_type": "markdown",
   "metadata": {},
   "source": [
    "#### Выведем результаты нашего исследования в CSV табличку"
   ]
  },
  {
   "cell_type": "code",
   "execution_count": 5,
   "metadata": {},
   "outputs": [
    {
     "data": {
      "text/html": [
       "<div>\n",
       "<style scoped>\n",
       "    .dataframe tbody tr th:only-of-type {\n",
       "        vertical-align: middle;\n",
       "    }\n",
       "\n",
       "    .dataframe tbody tr th {\n",
       "        vertical-align: top;\n",
       "    }\n",
       "\n",
       "    .dataframe thead th {\n",
       "        text-align: right;\n",
       "    }\n",
       "</style>\n",
       "<table border=\"1\" class=\"dataframe\">\n",
       "  <thead>\n",
       "    <tr style=\"text-align: right;\">\n",
       "      <th></th>\n",
       "      <th>subjectName</th>\n",
       "      <th>year</th>\n",
       "      <th>grade</th>\n",
       "      <th>result</th>\n",
       "    </tr>\n",
       "  </thead>\n",
       "  <tbody>\n",
       "    <tr>\n",
       "      <th>0</th>\n",
       "      <td>Math</td>\n",
       "      <td>23</td>\n",
       "      <td>10</td>\n",
       "      <td>True</td>\n",
       "    </tr>\n",
       "    <tr>\n",
       "      <th>1</th>\n",
       "      <td>Math</td>\n",
       "      <td>23</td>\n",
       "      <td>11</td>\n",
       "      <td>True</td>\n",
       "    </tr>\n",
       "    <tr>\n",
       "      <th>2</th>\n",
       "      <td>Math</td>\n",
       "      <td>24</td>\n",
       "      <td>10</td>\n",
       "      <td>True</td>\n",
       "    </tr>\n",
       "    <tr>\n",
       "      <th>3</th>\n",
       "      <td>Math</td>\n",
       "      <td>24</td>\n",
       "      <td>11</td>\n",
       "      <td>True</td>\n",
       "    </tr>\n",
       "    <tr>\n",
       "      <th>4</th>\n",
       "      <td>Economics</td>\n",
       "      <td>23</td>\n",
       "      <td>10</td>\n",
       "      <td>True</td>\n",
       "    </tr>\n",
       "    <tr>\n",
       "      <th>5</th>\n",
       "      <td>Economics</td>\n",
       "      <td>23</td>\n",
       "      <td>11</td>\n",
       "      <td>Not defined</td>\n",
       "    </tr>\n",
       "    <tr>\n",
       "      <th>6</th>\n",
       "      <td>Economics</td>\n",
       "      <td>24</td>\n",
       "      <td>10</td>\n",
       "      <td>True</td>\n",
       "    </tr>\n",
       "    <tr>\n",
       "      <th>7</th>\n",
       "      <td>Economics</td>\n",
       "      <td>24</td>\n",
       "      <td>11</td>\n",
       "      <td>True</td>\n",
       "    </tr>\n",
       "    <tr>\n",
       "      <th>8</th>\n",
       "      <td>Physics</td>\n",
       "      <td>23</td>\n",
       "      <td>10</td>\n",
       "      <td>Not defined</td>\n",
       "    </tr>\n",
       "    <tr>\n",
       "      <th>9</th>\n",
       "      <td>Physics</td>\n",
       "      <td>23</td>\n",
       "      <td>11</td>\n",
       "      <td>True</td>\n",
       "    </tr>\n",
       "    <tr>\n",
       "      <th>10</th>\n",
       "      <td>Physics</td>\n",
       "      <td>24</td>\n",
       "      <td>10</td>\n",
       "      <td>True</td>\n",
       "    </tr>\n",
       "    <tr>\n",
       "      <th>11</th>\n",
       "      <td>Physics</td>\n",
       "      <td>24</td>\n",
       "      <td>11</td>\n",
       "      <td>True</td>\n",
       "    </tr>\n",
       "  </tbody>\n",
       "</table>\n",
       "</div>"
      ],
      "text/plain": [
       "   subjectName  year  grade       result\n",
       "0         Math    23     10         True\n",
       "1         Math    23     11         True\n",
       "2         Math    24     10         True\n",
       "3         Math    24     11         True\n",
       "4    Economics    23     10         True\n",
       "5    Economics    23     11  Not defined\n",
       "6    Economics    24     10         True\n",
       "7    Economics    24     11         True\n",
       "8      Physics    23     10  Not defined\n",
       "9      Physics    23     11         True\n",
       "10     Physics    24     10         True\n",
       "11     Physics    24     11         True"
      ]
     },
     "execution_count": 5,
     "metadata": {},
     "output_type": "execute_result"
    }
   ],
   "source": [
    "dFrame.to_csv('resultsTable.csv', sep = ' ')\n",
    "dFrame"
   ]
  },
  {
   "cell_type": "markdown",
   "metadata": {},
   "source": [
    "### Вторая гипотеза"
   ]
  },
  {
   "cell_type": "markdown",
   "metadata": {},
   "source": [
    "Напомню:  \n",
    "$H_1$: Призеры прошлого года в среднем занимают более высокие места"
   ]
  },
  {
   "cell_type": "markdown",
   "metadata": {},
   "source": [
    "#### Статистика"
   ]
  },
  {
   "cell_type": "code",
   "execution_count": 6,
   "metadata": {},
   "outputs": [],
   "source": [
    "%%capture\n",
    "\n",
    "stat = CohortStatistics.cohortStat(DfServices.getPercentileData(), \n",
    "\tuseZTest = True)"
   ]
  },
  {
   "cell_type": "markdown",
   "metadata": {},
   "source": [
    "#### Результат:"
   ]
  },
  {
   "cell_type": "code",
   "execution_count": 7,
   "metadata": {},
   "outputs": [
    {
     "name": "stdout",
     "output_type": "stream",
     "text": [
      "Mean of last year prizes' scores is 0.5886\n",
      "Mean others' scores is 0.4573\n",
      "    H_0: Actually MeanP == MeanO\n",
      "    H_1: Not equal\n",
      " \n",
      "Check criteria for a T-Test:\n",
      "     | KSTest for normality failed: One of the distributions is not normal\n",
      "     Failed | Levene | Shapiro-Wilk \n",
      "\n",
      "Performing a Z-Test:\n",
      "    p_value is 0.00000 \n",
      "H_0 is false -> H_1 is ACCEPTED\n",
      " \n",
      "Performing a KS-Test:\n",
      "    p_value is 0.00000 \n",
      "H_0 is false -> H_1 is ACCEPTED\n",
      " \n"
     ]
    }
   ],
   "source": [
    "print('\\n'.join(stat.logs))"
   ]
  },
  {
   "cell_type": "markdown",
   "metadata": {},
   "source": [
    "Из чего делаем закономерные выводы и заносим их в README.py"
   ]
  }
 ],
 "metadata": {
  "kernelspec": {
   "display_name": "Python 3",
   "language": "python",
   "name": "python3"
  },
  "language_info": {
   "codemirror_mode": {
    "name": "ipython",
    "version": 3
   },
   "file_extension": ".py",
   "mimetype": "text/x-python",
   "name": "python",
   "nbconvert_exporter": "python",
   "pygments_lexer": "ipython3",
   "version": "3.12.3"
  }
 },
 "nbformat": 4,
 "nbformat_minor": 2
}
